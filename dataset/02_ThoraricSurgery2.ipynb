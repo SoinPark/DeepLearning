{
 "metadata": {
  "language_info": {
   "codemirror_mode": {
    "name": "ipython",
    "version": 3
   },
   "file_extension": ".py",
   "mimetype": "text/x-python",
   "name": "python",
   "nbconvert_exporter": "python",
   "pygments_lexer": "ipython3",
   "version": "3.8.5"
  },
  "orig_nbformat": 4,
  "kernelspec": {
   "name": "python3",
   "display_name": "Python 3.8.5 64-bit ('base': conda)"
  },
  "interpreter": {
   "hash": "8c1eae21719a0790335dcb83aad72b63b602cfe5cdb2bda0f60bc11d4f154e4b"
  }
 },
 "nbformat": 4,
 "nbformat_minor": 2,
 "cells": [
  {
   "source": [
    "# 폐병 환자 수술(Thoraric Surgery)\n",
    "- 은닉층(hidden layer)을 여러개 둠"
   ],
   "cell_type": "markdown",
   "metadata": {}
  },
  {
   "cell_type": "code",
   "execution_count": 1,
   "metadata": {},
   "outputs": [],
   "source": [
    "import numpy as np\n",
    "import pandas as pd"
   ]
  },
  {
   "cell_type": "code",
   "execution_count": 2,
   "metadata": {},
   "outputs": [
    {
     "output_type": "execute_result",
     "data": {
      "text/plain": [
       "    0   1     2     3   4   5   6   7   8   9   10  11  12  13  14  15  16  17\n",
       "0  293   1  3.80  2.80   0   0   0   0   0   0  12   0   0   0   1   0  62   0\n",
       "1    1   2  2.88  2.16   1   0   0   0   1   1  14   0   0   0   1   0  60   0\n",
       "2    8   2  3.19  2.50   1   0   0   0   1   0  11   0   0   1   1   0  66   1\n",
       "3   14   2  3.98  3.06   2   0   0   0   1   1  14   0   0   0   1   0  80   1\n",
       "4   17   2  2.21  1.88   0   0   1   0   0   0  12   0   0   0   1   0  56   0"
      ],
      "text/html": "<div>\n<style scoped>\n    .dataframe tbody tr th:only-of-type {\n        vertical-align: middle;\n    }\n\n    .dataframe tbody tr th {\n        vertical-align: top;\n    }\n\n    .dataframe thead th {\n        text-align: right;\n    }\n</style>\n<table border=\"1\" class=\"dataframe\">\n  <thead>\n    <tr style=\"text-align: right;\">\n      <th></th>\n      <th>0</th>\n      <th>1</th>\n      <th>2</th>\n      <th>3</th>\n      <th>4</th>\n      <th>5</th>\n      <th>6</th>\n      <th>7</th>\n      <th>8</th>\n      <th>9</th>\n      <th>10</th>\n      <th>11</th>\n      <th>12</th>\n      <th>13</th>\n      <th>14</th>\n      <th>15</th>\n      <th>16</th>\n      <th>17</th>\n    </tr>\n  </thead>\n  <tbody>\n    <tr>\n      <th>0</th>\n      <td>293</td>\n      <td>1</td>\n      <td>3.80</td>\n      <td>2.80</td>\n      <td>0</td>\n      <td>0</td>\n      <td>0</td>\n      <td>0</td>\n      <td>0</td>\n      <td>0</td>\n      <td>12</td>\n      <td>0</td>\n      <td>0</td>\n      <td>0</td>\n      <td>1</td>\n      <td>0</td>\n      <td>62</td>\n      <td>0</td>\n    </tr>\n    <tr>\n      <th>1</th>\n      <td>1</td>\n      <td>2</td>\n      <td>2.88</td>\n      <td>2.16</td>\n      <td>1</td>\n      <td>0</td>\n      <td>0</td>\n      <td>0</td>\n      <td>1</td>\n      <td>1</td>\n      <td>14</td>\n      <td>0</td>\n      <td>0</td>\n      <td>0</td>\n      <td>1</td>\n      <td>0</td>\n      <td>60</td>\n      <td>0</td>\n    </tr>\n    <tr>\n      <th>2</th>\n      <td>8</td>\n      <td>2</td>\n      <td>3.19</td>\n      <td>2.50</td>\n      <td>1</td>\n      <td>0</td>\n      <td>0</td>\n      <td>0</td>\n      <td>1</td>\n      <td>0</td>\n      <td>11</td>\n      <td>0</td>\n      <td>0</td>\n      <td>1</td>\n      <td>1</td>\n      <td>0</td>\n      <td>66</td>\n      <td>1</td>\n    </tr>\n    <tr>\n      <th>3</th>\n      <td>14</td>\n      <td>2</td>\n      <td>3.98</td>\n      <td>3.06</td>\n      <td>2</td>\n      <td>0</td>\n      <td>0</td>\n      <td>0</td>\n      <td>1</td>\n      <td>1</td>\n      <td>14</td>\n      <td>0</td>\n      <td>0</td>\n      <td>0</td>\n      <td>1</td>\n      <td>0</td>\n      <td>80</td>\n      <td>1</td>\n    </tr>\n    <tr>\n      <th>4</th>\n      <td>17</td>\n      <td>2</td>\n      <td>2.21</td>\n      <td>1.88</td>\n      <td>0</td>\n      <td>0</td>\n      <td>1</td>\n      <td>0</td>\n      <td>0</td>\n      <td>0</td>\n      <td>12</td>\n      <td>0</td>\n      <td>0</td>\n      <td>0</td>\n      <td>1</td>\n      <td>0</td>\n      <td>56</td>\n      <td>0</td>\n    </tr>\n  </tbody>\n</table>\n</div>"
     },
     "metadata": {},
     "execution_count": 2
    }
   ],
   "source": [
    "df = pd.read_csv('C:/dataset/ThoraricSurgery.csv', header=None)\n",
    "df.head()"
   ]
  },
  {
   "source": [
    "## 데이터 셋 만들기"
   ],
   "cell_type": "markdown",
   "metadata": {}
  },
  {
   "cell_type": "code",
   "execution_count": 3,
   "metadata": {},
   "outputs": [
    {
     "output_type": "execute_result",
     "data": {
      "text/plain": [
       "((352, 17), (118, 17), (352,), (118,))"
      ]
     },
     "metadata": {},
     "execution_count": 3
    }
   ],
   "source": [
    "from sklearn.model_selection import train_test_split\n",
    "X_train, X_test, y_train, y_test = train_test_split(\n",
    "    df.iloc[:,:-1].values, df.iloc[:,-1].values,\n",
    "    stratify=df.iloc[:,-1].values, random_state=2021\n",
    ")\n",
    "X_train.shape, X_test.shape, y_train.shape, y_test.shape"
   ]
  },
  {
   "source": [
    "##  모델 정의"
   ],
   "cell_type": "markdown",
   "metadata": {}
  },
  {
   "cell_type": "code",
   "execution_count": 4,
   "metadata": {},
   "outputs": [],
   "source": [
    "import tensorflow as tf\n",
    "seed = 2021\n",
    "np.random.seed(seed)\n",
    "tf.random.set_seed(seed)"
   ]
  },
  {
   "cell_type": "code",
   "execution_count": 5,
   "metadata": {},
   "outputs": [],
   "source": [
    "from tensorflow.keras.models import Sequential\n",
    "from tensorflow.keras.layers import Dense"
   ]
  },
  {
   "cell_type": "code",
   "execution_count": 6,
   "metadata": {},
   "outputs": [
    {
     "output_type": "stream",
     "name": "stdout",
     "text": [
      "Model: \"sequential\"\n_________________________________________________________________\nLayer (type)                 Output Shape              Param #   \n=================================================================\ndense (Dense)                (None, 24)                432       \n_________________________________________________________________\ndense_1 (Dense)              (None, 12)                300       \n_________________________________________________________________\ndense_2 (Dense)              (None, 1)                 13        \n=================================================================\nTotal params: 745\nTrainable params: 745\nNon-trainable params: 0\n_________________________________________________________________\n"
     ]
    }
   ],
   "source": [
    "# model.add가아니라 리스트를 만들어 안에 집에넣어 사용할 수도 있다\n",
    "model = Sequential([\n",
    "    Dense(24, input_dim=17, activation='relu'),\n",
    "    Dense(12, activation='relu'),\n",
    "    Dense(1, activation='sigmoid')\n",
    "])\n",
    "model.summary()"
   ]
  },
  {
   "source": [
    "## 모델 컴파일 - 실행환경 설정"
   ],
   "cell_type": "markdown",
   "metadata": {}
  },
  {
   "cell_type": "code",
   "execution_count": 9,
   "metadata": {},
   "outputs": [],
   "source": [
    "model.compile(\n",
    "    loss='binary_crossentropy',\n",
    "    optimizer='adam',\n",
    "    metrics=['accuracy']\n",
    ")"
   ]
  },
  {
   "source": [
    "## 모델 학습"
   ],
   "cell_type": "markdown",
   "metadata": {}
  },
  {
   "cell_type": "code",
   "execution_count": 10,
   "metadata": {},
   "outputs": [
    {
     "output_type": "stream",
     "name": "stdout",
     "text": [
      "Epoch 1/30\n",
      "10/10 [==============================] - 0s 14ms/step - loss: 2.6705 - accuracy: 0.6619 - val_loss: 2.6819 - val_accuracy: 0.8169\n",
      "Epoch 2/30\n",
      "10/10 [==============================] - 0s 2ms/step - loss: 2.0409 - accuracy: 0.8541 - val_loss: 2.2623 - val_accuracy: 0.8169\n",
      "Epoch 3/30\n",
      "10/10 [==============================] - 0s 3ms/step - loss: 1.4056 - accuracy: 0.8221 - val_loss: 0.9421 - val_accuracy: 0.6901\n",
      "Epoch 4/30\n",
      "10/10 [==============================] - 0s 3ms/step - loss: 0.9670 - accuracy: 0.7758 - val_loss: 1.1142 - val_accuracy: 0.8169\n",
      "Epoch 5/30\n",
      "10/10 [==============================] - 0s 3ms/step - loss: 0.8275 - accuracy: 0.8221 - val_loss: 0.7859 - val_accuracy: 0.7606\n",
      "Epoch 6/30\n",
      "10/10 [==============================] - 0s 3ms/step - loss: 0.7433 - accuracy: 0.8149 - val_loss: 0.8346 - val_accuracy: 0.8169\n",
      "Epoch 7/30\n",
      "10/10 [==============================] - 0s 3ms/step - loss: 0.6598 - accuracy: 0.7794 - val_loss: 0.7466 - val_accuracy: 0.7746\n",
      "Epoch 8/30\n",
      "10/10 [==============================] - 0s 3ms/step - loss: 0.6101 - accuracy: 0.8327 - val_loss: 0.8266 - val_accuracy: 0.8169\n",
      "Epoch 9/30\n",
      "10/10 [==============================] - 0s 3ms/step - loss: 0.5971 - accuracy: 0.7829 - val_loss: 0.7381 - val_accuracy: 0.7606\n",
      "Epoch 10/30\n",
      "10/10 [==============================] - 0s 2ms/step - loss: 0.5501 - accuracy: 0.8399 - val_loss: 0.7243 - val_accuracy: 0.7746\n",
      "Epoch 11/30\n",
      "10/10 [==============================] - 0s 2ms/step - loss: 0.5274 - accuracy: 0.8043 - val_loss: 0.7536 - val_accuracy: 0.8028\n",
      "Epoch 12/30\n",
      "10/10 [==============================] - 0s 2ms/step - loss: 0.5192 - accuracy: 0.8292 - val_loss: 0.6806 - val_accuracy: 0.7324\n",
      "Epoch 13/30\n",
      "10/10 [==============================] - 0s 2ms/step - loss: 0.4831 - accuracy: 0.8256 - val_loss: 0.7812 - val_accuracy: 0.7887\n",
      "Epoch 14/30\n",
      "10/10 [==============================] - 0s 3ms/step - loss: 0.4978 - accuracy: 0.8470 - val_loss: 0.6614 - val_accuracy: 0.7183\n",
      "Epoch 15/30\n",
      "10/10 [==============================] - 0s 2ms/step - loss: 0.4762 - accuracy: 0.8683 - val_loss: 0.6541 - val_accuracy: 0.7183\n",
      "Epoch 16/30\n",
      "10/10 [==============================] - 0s 2ms/step - loss: 0.4714 - accuracy: 0.8470 - val_loss: 0.6723 - val_accuracy: 0.7606\n",
      "Epoch 17/30\n",
      "10/10 [==============================] - 0s 2ms/step - loss: 0.4645 - accuracy: 0.8399 - val_loss: 0.8295 - val_accuracy: 0.7887\n",
      "Epoch 18/30\n",
      "10/10 [==============================] - 0s 2ms/step - loss: 0.4959 - accuracy: 0.8577 - val_loss: 0.7315 - val_accuracy: 0.5915\n",
      "Epoch 19/30\n",
      "10/10 [==============================] - 0s 2ms/step - loss: 0.5086 - accuracy: 0.8399 - val_loss: 0.7299 - val_accuracy: 0.7746\n",
      "Epoch 20/30\n",
      "10/10 [==============================] - 0s 2ms/step - loss: 0.4416 - accuracy: 0.8434 - val_loss: 0.6665 - val_accuracy: 0.7606\n",
      "Epoch 21/30\n",
      "10/10 [==============================] - 0s 2ms/step - loss: 0.4788 - accuracy: 0.8612 - val_loss: 0.6396 - val_accuracy: 0.7183\n",
      "Epoch 22/30\n",
      "10/10 [==============================] - 0s 2ms/step - loss: 0.4822 - accuracy: 0.8648 - val_loss: 0.6469 - val_accuracy: 0.6901\n",
      "Epoch 23/30\n",
      "10/10 [==============================] - 0s 2ms/step - loss: 0.4678 - accuracy: 0.8434 - val_loss: 0.6744 - val_accuracy: 0.7887\n",
      "Epoch 24/30\n",
      "10/10 [==============================] - 0s 2ms/step - loss: 0.4304 - accuracy: 0.8577 - val_loss: 0.7139 - val_accuracy: 0.7887\n",
      "Epoch 25/30\n",
      "10/10 [==============================] - 0s 2ms/step - loss: 0.4334 - accuracy: 0.8612 - val_loss: 0.6373 - val_accuracy: 0.7042\n",
      "Epoch 26/30\n",
      "10/10 [==============================] - 0s 2ms/step - loss: 0.4934 - accuracy: 0.8754 - val_loss: 0.6343 - val_accuracy: 0.6901\n",
      "Epoch 27/30\n",
      "10/10 [==============================] - 0s 2ms/step - loss: 0.4759 - accuracy: 0.8363 - val_loss: 0.6168 - val_accuracy: 0.7183\n",
      "Epoch 28/30\n",
      "10/10 [==============================] - 0s 2ms/step - loss: 0.4175 - accuracy: 0.8683 - val_loss: 0.6335 - val_accuracy: 0.7887\n",
      "Epoch 29/30\n",
      "10/10 [==============================] - 0s 2ms/step - loss: 0.4115 - accuracy: 0.8648 - val_loss: 0.6118 - val_accuracy: 0.7183\n",
      "Epoch 30/30\n",
      "10/10 [==============================] - 0s 3ms/step - loss: 0.4147 - accuracy: 0.8754 - val_loss: 0.6078 - val_accuracy: 0.7606\n"
     ]
    }
   ],
   "source": [
    "history = model.fit(\n",
    "    X_train, y_train,\n",
    "    validation_split=0.2,\n",
    "    epochs=30,\n",
    "    batch_size=30\n",
    "    )"
   ]
  },
  {
   "source": [
    "## 정확도 평가"
   ],
   "cell_type": "markdown",
   "metadata": {}
  },
  {
   "cell_type": "code",
   "execution_count": 11,
   "metadata": {},
   "outputs": [
    {
     "output_type": "stream",
     "name": "stdout",
     "text": [
      "4/4 [==============================] - 0s 751us/step - loss: 0.5395 - accuracy: 0.8220\n"
     ]
    },
    {
     "output_type": "execute_result",
     "data": {
      "text/plain": [
       "[0.5394792556762695, 0.8220338821411133]"
      ]
     },
     "metadata": {},
     "execution_count": 11
    }
   ],
   "source": [
    "model.evaluate(X_test, y_test)"
   ]
  },
  {
   "source": [
    "## 학습과정 시각화"
   ],
   "cell_type": "markdown",
   "metadata": {}
  },
  {
   "cell_type": "code",
   "execution_count": 14,
   "metadata": {},
   "outputs": [
    {
     "output_type": "execute_result",
     "data": {
      "text/plain": [
       "dict"
      ]
     },
     "metadata": {},
     "execution_count": 14
    }
   ],
   "source": [
    "type(history.history)"
   ]
  },
  {
   "cell_type": "code",
   "execution_count": 12,
   "metadata": {},
   "outputs": [
    {
     "output_type": "execute_result",
     "data": {
      "text/plain": [
       "[0.6619216799736023, 0.854092538356781, 0.8220640420913696]"
      ]
     },
     "metadata": {},
     "execution_count": 12
    }
   ],
   "source": [
    "# 훈련 데이터 정확도/손실값\n",
    "accuracy = history.history['accuracy']\n",
    "loss = history.history['loss']\n",
    "accuracy[:3]"
   ]
  },
  {
   "cell_type": "code",
   "execution_count": 13,
   "metadata": {},
   "outputs": [
    {
     "output_type": "execute_result",
     "data": {
      "text/plain": [
       "[2.6819143295288086, 2.2622766494750977, 0.9421034455299377]"
      ]
     },
     "metadata": {},
     "execution_count": 13
    }
   ],
   "source": [
    "# 검증 데이터 정확도/손실값\n",
    "val_accuracy = history.history['val_accuracy']\n",
    "val_loss = history.history['val_loss']\n",
    "val_loss[:3]"
   ]
  },
  {
   "cell_type": "code",
   "execution_count": null,
   "metadata": {},
   "outputs": [],
   "source": []
  }
 ]
}