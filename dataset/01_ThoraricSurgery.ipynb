{
 "metadata": {
  "language_info": {
   "codemirror_mode": {
    "name": "ipython",
    "version": 3
   },
   "file_extension": ".py",
   "mimetype": "text/x-python",
   "name": "python",
   "nbconvert_exporter": "python",
   "pygments_lexer": "ipython3",
   "version": "3.8.5"
  },
  "orig_nbformat": 4,
  "kernelspec": {
   "name": "python3",
   "display_name": "Python 3.8.5 64-bit ('base': conda)"
  },
  "interpreter": {
   "hash": "8c1eae21719a0790335dcb83aad72b63b602cfe5cdb2bda0f60bc11d4f154e4b"
  }
 },
 "nbformat": 4,
 "nbformat_minor": 2,
 "cells": [
  {
   "source": [
    "# 폐병 환자 수술(Thoraric Surgery)"
   ],
   "cell_type": "markdown",
   "metadata": {}
  },
  {
   "cell_type": "code",
   "execution_count": 1,
   "metadata": {},
   "outputs": [],
   "source": [
    "import numpy as np\n",
    "import pandas as pd"
   ]
  },
  {
   "cell_type": "code",
   "execution_count": 5,
   "metadata": {},
   "outputs": [
    {
     "output_type": "execute_result",
     "data": {
      "text/plain": [
       "    0   1     2     3   4   5   6   7   8   9   10  11  12  13  14  15  16  17\n",
       "0  293   1  3.80  2.80   0   0   0   0   0   0  12   0   0   0   1   0  62   0\n",
       "1    1   2  2.88  2.16   1   0   0   0   1   1  14   0   0   0   1   0  60   0\n",
       "2    8   2  3.19  2.50   1   0   0   0   1   0  11   0   0   1   1   0  66   1\n",
       "3   14   2  3.98  3.06   2   0   0   0   1   1  14   0   0   0   1   0  80   1\n",
       "4   17   2  2.21  1.88   0   0   1   0   0   0  12   0   0   0   1   0  56   0"
      ],
      "text/html": "<div>\n<style scoped>\n    .dataframe tbody tr th:only-of-type {\n        vertical-align: middle;\n    }\n\n    .dataframe tbody tr th {\n        vertical-align: top;\n    }\n\n    .dataframe thead th {\n        text-align: right;\n    }\n</style>\n<table border=\"1\" class=\"dataframe\">\n  <thead>\n    <tr style=\"text-align: right;\">\n      <th></th>\n      <th>0</th>\n      <th>1</th>\n      <th>2</th>\n      <th>3</th>\n      <th>4</th>\n      <th>5</th>\n      <th>6</th>\n      <th>7</th>\n      <th>8</th>\n      <th>9</th>\n      <th>10</th>\n      <th>11</th>\n      <th>12</th>\n      <th>13</th>\n      <th>14</th>\n      <th>15</th>\n      <th>16</th>\n      <th>17</th>\n    </tr>\n  </thead>\n  <tbody>\n    <tr>\n      <th>0</th>\n      <td>293</td>\n      <td>1</td>\n      <td>3.80</td>\n      <td>2.80</td>\n      <td>0</td>\n      <td>0</td>\n      <td>0</td>\n      <td>0</td>\n      <td>0</td>\n      <td>0</td>\n      <td>12</td>\n      <td>0</td>\n      <td>0</td>\n      <td>0</td>\n      <td>1</td>\n      <td>0</td>\n      <td>62</td>\n      <td>0</td>\n    </tr>\n    <tr>\n      <th>1</th>\n      <td>1</td>\n      <td>2</td>\n      <td>2.88</td>\n      <td>2.16</td>\n      <td>1</td>\n      <td>0</td>\n      <td>0</td>\n      <td>0</td>\n      <td>1</td>\n      <td>1</td>\n      <td>14</td>\n      <td>0</td>\n      <td>0</td>\n      <td>0</td>\n      <td>1</td>\n      <td>0</td>\n      <td>60</td>\n      <td>0</td>\n    </tr>\n    <tr>\n      <th>2</th>\n      <td>8</td>\n      <td>2</td>\n      <td>3.19</td>\n      <td>2.50</td>\n      <td>1</td>\n      <td>0</td>\n      <td>0</td>\n      <td>0</td>\n      <td>1</td>\n      <td>0</td>\n      <td>11</td>\n      <td>0</td>\n      <td>0</td>\n      <td>1</td>\n      <td>1</td>\n      <td>0</td>\n      <td>66</td>\n      <td>1</td>\n    </tr>\n    <tr>\n      <th>3</th>\n      <td>14</td>\n      <td>2</td>\n      <td>3.98</td>\n      <td>3.06</td>\n      <td>2</td>\n      <td>0</td>\n      <td>0</td>\n      <td>0</td>\n      <td>1</td>\n      <td>1</td>\n      <td>14</td>\n      <td>0</td>\n      <td>0</td>\n      <td>0</td>\n      <td>1</td>\n      <td>0</td>\n      <td>80</td>\n      <td>1</td>\n    </tr>\n    <tr>\n      <th>4</th>\n      <td>17</td>\n      <td>2</td>\n      <td>2.21</td>\n      <td>1.88</td>\n      <td>0</td>\n      <td>0</td>\n      <td>1</td>\n      <td>0</td>\n      <td>0</td>\n      <td>0</td>\n      <td>12</td>\n      <td>0</td>\n      <td>0</td>\n      <td>0</td>\n      <td>1</td>\n      <td>0</td>\n      <td>56</td>\n      <td>0</td>\n    </tr>\n  </tbody>\n</table>\n</div>"
     },
     "metadata": {},
     "execution_count": 5
    }
   ],
   "source": [
    "df = pd.read_csv('C:/dataset/ThoraricSurgery.csv', header=None)\n",
    "df.head()"
   ]
  },
  {
   "source": [
    "## 데이터 셋 만들기"
   ],
   "cell_type": "markdown",
   "metadata": {}
  },
  {
   "cell_type": "code",
   "execution_count": 6,
   "metadata": {},
   "outputs": [
    {
     "output_type": "execute_result",
     "data": {
      "text/plain": [
       "((352, 17), (118, 17), (352,), (118,))"
      ]
     },
     "metadata": {},
     "execution_count": 6
    }
   ],
   "source": [
    "from sklearn.model_selection import train_test_split\n",
    "X_train, X_test, y_train, y_test = train_test_split(\n",
    "    df.iloc[:,:-1].values, df.iloc[:,-1].values,\n",
    "    stratify=df.iloc[:,-1].values, random_state=2021\n",
    ")\n",
    "X_train.shape, X_test.shape, y_train.shape, y_test.shape"
   ]
  },
  {
   "source": [
    "##  모델 정의"
   ],
   "cell_type": "markdown",
   "metadata": {}
  },
  {
   "cell_type": "code",
   "execution_count": 14,
   "metadata": {},
   "outputs": [],
   "source": [
    "import tensorflow as tf\n",
    "seed = 2021\n",
    "np.random.seed(seed)\n",
    "tf.random.set_seed(seed)"
   ]
  },
  {
   "cell_type": "code",
   "execution_count": 15,
   "metadata": {},
   "outputs": [],
   "source": [
    "from tensorflow.keras.models import Sequential\n",
    "from tensorflow.keras.layers import Dense"
   ]
  },
  {
   "cell_type": "code",
   "execution_count": 16,
   "metadata": {},
   "outputs": [
    {
     "output_type": "stream",
     "name": "stdout",
     "text": [
      "Model: \"sequential\"\n_________________________________________________________________\nLayer (type)                 Output Shape              Param #   \n=================================================================\ndense (Dense)                (None, 30)                540       \n_________________________________________________________________\ndense_1 (Dense)              (None, 1)                 31        \n=================================================================\nTotal params: 571\nTrainable params: 571\nNon-trainable params: 0\n_________________________________________________________________\n"
     ]
    }
   ],
   "source": [
    "model = Sequential()\n",
    "model.add(Dense(30, input_shape=(17,), activation='relu'))\n",
    "model.add(Dense(1, activation='sigmoid'))\n",
    "model.summary()"
   ]
  },
  {
   "source": [
    "## 모델 컴파일 - 실행환경 설정"
   ],
   "cell_type": "markdown",
   "metadata": {}
  },
  {
   "cell_type": "code",
   "execution_count": 17,
   "metadata": {},
   "outputs": [],
   "source": [
    "# 2진분류: loss함수는 'binary_crossentropy'\n",
    "# 아웃풋이 0,1 밖에 나올수가없다\n",
    "model.compile(\n",
    "    loss='binary_crossentropy',\n",
    "    optimizer='adam',\n",
    "    metrics=['accuracy']\n",
    ")"
   ]
  },
  {
   "source": [
    "## 모델 학습"
   ],
   "cell_type": "markdown",
   "metadata": {}
  },
  {
   "cell_type": "code",
   "execution_count": 18,
   "metadata": {},
   "outputs": [
    {
     "output_type": "stream",
     "name": "stdout",
     "text": [
      "Epoch 1/30\n",
      "10/10 [==============================] - 0s 16ms/step - loss: 0.7366 - accuracy: 0.3025 - val_loss: 0.6757 - val_accuracy: 0.6197\n",
      "Epoch 2/30\n",
      "10/10 [==============================] - 0s 3ms/step - loss: 0.6550 - accuracy: 0.7153 - val_loss: 0.6211 - val_accuracy: 0.8028\n",
      "Epoch 3/30\n",
      "10/10 [==============================] - 0s 2ms/step - loss: 0.5916 - accuracy: 0.8683 - val_loss: 0.5813 - val_accuracy: 0.8028\n",
      "Epoch 4/30\n",
      "10/10 [==============================] - 0s 3ms/step - loss: 0.5433 - accuracy: 0.8648 - val_loss: 0.5519 - val_accuracy: 0.8028\n",
      "Epoch 5/30\n",
      "10/10 [==============================] - 0s 2ms/step - loss: 0.5053 - accuracy: 0.8648 - val_loss: 0.5330 - val_accuracy: 0.8028\n",
      "Epoch 6/30\n",
      "10/10 [==============================] - 0s 2ms/step - loss: 0.4798 - accuracy: 0.8648 - val_loss: 0.5206 - val_accuracy: 0.8028\n",
      "Epoch 7/30\n",
      "10/10 [==============================] - 0s 2ms/step - loss: 0.4581 - accuracy: 0.8648 - val_loss: 0.5142 - val_accuracy: 0.8028\n",
      "Epoch 8/30\n",
      "10/10 [==============================] - 0s 2ms/step - loss: 0.4435 - accuracy: 0.8648 - val_loss: 0.5109 - val_accuracy: 0.8028\n",
      "Epoch 9/30\n",
      "10/10 [==============================] - 0s 2ms/step - loss: 0.4336 - accuracy: 0.8648 - val_loss: 0.5096 - val_accuracy: 0.8028\n",
      "Epoch 10/30\n",
      "10/10 [==============================] - 0s 2ms/step - loss: 0.4266 - accuracy: 0.8648 - val_loss: 0.5097 - val_accuracy: 0.8028\n",
      "Epoch 11/30\n",
      "10/10 [==============================] - 0s 2ms/step - loss: 0.4203 - accuracy: 0.8648 - val_loss: 0.5106 - val_accuracy: 0.8028\n",
      "Epoch 12/30\n",
      "10/10 [==============================] - 0s 2ms/step - loss: 0.4164 - accuracy: 0.8648 - val_loss: 0.5118 - val_accuracy: 0.8028\n",
      "Epoch 13/30\n",
      "10/10 [==============================] - 0s 2ms/step - loss: 0.4129 - accuracy: 0.8648 - val_loss: 0.5105 - val_accuracy: 0.8028\n",
      "Epoch 14/30\n",
      "10/10 [==============================] - 0s 2ms/step - loss: 0.4102 - accuracy: 0.8648 - val_loss: 0.5111 - val_accuracy: 0.8028\n",
      "Epoch 15/30\n",
      "10/10 [==============================] - 0s 3ms/step - loss: 0.4076 - accuracy: 0.8648 - val_loss: 0.5106 - val_accuracy: 0.8028\n",
      "Epoch 16/30\n",
      "10/10 [==============================] - 0s 2ms/step - loss: 0.4050 - accuracy: 0.8648 - val_loss: 0.5097 - val_accuracy: 0.8028\n",
      "Epoch 17/30\n",
      "10/10 [==============================] - 0s 3ms/step - loss: 0.4034 - accuracy: 0.8648 - val_loss: 0.5074 - val_accuracy: 0.8028\n",
      "Epoch 18/30\n",
      "10/10 [==============================] - 0s 2ms/step - loss: 0.4011 - accuracy: 0.8648 - val_loss: 0.5062 - val_accuracy: 0.8028\n",
      "Epoch 19/30\n",
      "10/10 [==============================] - 0s 2ms/step - loss: 0.3988 - accuracy: 0.8648 - val_loss: 0.5054 - val_accuracy: 0.8028\n",
      "Epoch 20/30\n",
      "10/10 [==============================] - 0s 2ms/step - loss: 0.3971 - accuracy: 0.8648 - val_loss: 0.5047 - val_accuracy: 0.8028\n",
      "Epoch 21/30\n",
      "10/10 [==============================] - 0s 2ms/step - loss: 0.3954 - accuracy: 0.8648 - val_loss: 0.5027 - val_accuracy: 0.8028\n",
      "Epoch 22/30\n",
      "10/10 [==============================] - 0s 2ms/step - loss: 0.3937 - accuracy: 0.8648 - val_loss: 0.5023 - val_accuracy: 0.8028\n",
      "Epoch 23/30\n",
      "10/10 [==============================] - 0s 3ms/step - loss: 0.3921 - accuracy: 0.8648 - val_loss: 0.5001 - val_accuracy: 0.8028\n",
      "Epoch 24/30\n",
      "10/10 [==============================] - 0s 3ms/step - loss: 0.3901 - accuracy: 0.8648 - val_loss: 0.4968 - val_accuracy: 0.8028\n",
      "Epoch 25/30\n",
      "10/10 [==============================] - 0s 3ms/step - loss: 0.3883 - accuracy: 0.8648 - val_loss: 0.4950 - val_accuracy: 0.8028\n",
      "Epoch 26/30\n",
      "10/10 [==============================] - 0s 3ms/step - loss: 0.3868 - accuracy: 0.8648 - val_loss: 0.4947 - val_accuracy: 0.8028\n",
      "Epoch 27/30\n",
      "10/10 [==============================] - 0s 2ms/step - loss: 0.3852 - accuracy: 0.8648 - val_loss: 0.4938 - val_accuracy: 0.8028\n",
      "Epoch 28/30\n",
      "10/10 [==============================] - 0s 2ms/step - loss: 0.3836 - accuracy: 0.8648 - val_loss: 0.4903 - val_accuracy: 0.8028\n",
      "Epoch 29/30\n",
      "10/10 [==============================] - 0s 2ms/step - loss: 0.3820 - accuracy: 0.8648 - val_loss: 0.4893 - val_accuracy: 0.8028\n",
      "Epoch 30/30\n",
      "10/10 [==============================] - 0s 2ms/step - loss: 0.3805 - accuracy: 0.8648 - val_loss: 0.4881 - val_accuracy: 0.8028\n"
     ]
    },
    {
     "output_type": "execute_result",
     "data": {
      "text/plain": [
       "<tensorflow.python.keras.callbacks.History at 0x1aed0ca0a00>"
      ]
     },
     "metadata": {},
     "execution_count": 18
    }
   ],
   "source": [
    "# epochs: 데이터 전체를 한번 다 훑어보는것(내맘대로 지정할수있음/적당함필요)\n",
    "# batch_size: 메모리 사이즈를 조절가능\n",
    "# validation_split: epochs로 훑어본다음에 테스트를 하는것\n",
    "model.fit(\n",
    "    X_train, y_train,\n",
    "    validation_split=0.2,\n",
    "    epochs=30,\n",
    "    batch_size=30\n",
    "    )"
   ]
  },
  {
   "source": [
    "## 정확도 평가"
   ],
   "cell_type": "markdown",
   "metadata": {}
  },
  {
   "cell_type": "code",
   "execution_count": 19,
   "metadata": {},
   "outputs": [
    {
     "output_type": "stream",
     "name": "stdout",
     "text": [
      "4/4 [==============================] - 0s 748us/step - loss: 0.4343 - accuracy: 0.8475\n"
     ]
    },
    {
     "output_type": "execute_result",
     "data": {
      "text/plain": [
       "[0.43434447050094604, 0.8474576473236084]"
      ]
     },
     "metadata": {},
     "execution_count": 19
    }
   ],
   "source": [
    "# 두번째 결과를 봐야함 / 정확도 84.74\n",
    "model.evaluate(X_test, y_test)"
   ]
  },
  {
   "source": [
    "## Machine Learning - Logistic Regression"
   ],
   "cell_type": "markdown",
   "metadata": {}
  },
  {
   "cell_type": "code",
   "execution_count": 20,
   "metadata": {},
   "outputs": [],
   "source": [
    "# 위 데이터를 그대로 가져오면 에러가 나서 스케일링을 해줘야함\n",
    "from sklearn.preprocessing import MinMaxScaler\n",
    "scaler = MinMaxScaler()\n",
    "X_scaled = scaler.fit_transform(df.iloc[:,:-1].values)"
   ]
  },
  {
   "cell_type": "code",
   "execution_count": 21,
   "metadata": {},
   "outputs": [],
   "source": [
    "# 데이터 셋 만들기\n",
    "X_train, X_test, y_train, y_test = train_test_split(\n",
    "    X_scaled, df.iloc[:,-1].values,\n",
    "    stratify=df.iloc[:,-1].values, random_state=2021\n",
    ")"
   ]
  },
  {
   "cell_type": "code",
   "execution_count": 22,
   "metadata": {},
   "outputs": [],
   "source": [
    "from sklearn.linear_model import LogisticRegression\n",
    "from sklearn.metrics import accuracy_score"
   ]
  },
  {
   "cell_type": "code",
   "execution_count": 23,
   "metadata": {},
   "outputs": [
    {
     "output_type": "execute_result",
     "data": {
      "text/plain": [
       "0.8389830508474576"
      ]
     },
     "metadata": {},
     "execution_count": 23
    }
   ],
   "source": [
    "# 분류는 딥러닝이나 머신이나 결과가 비슷비슷하다\n",
    "lr = LogisticRegression()\n",
    "lr.fit(X_train, y_train)\n",
    "pred = lr.predict(X_test)\n",
    "accuracy_score(y_test, pred)"
   ]
  },
  {
   "source": [
    "## Scale된 데이터로 딥러닝을 수행하면?"
   ],
   "cell_type": "markdown",
   "metadata": {}
  },
  {
   "cell_type": "code",
   "execution_count": 24,
   "metadata": {},
   "outputs": [
    {
     "output_type": "stream",
     "name": "stdout",
     "text": [
      "Model: \"sequential_1\"\n_________________________________________________________________\nLayer (type)                 Output Shape              Param #   \n=================================================================\ndense_2 (Dense)              (None, 30)                540       \n_________________________________________________________________\ndense_3 (Dense)              (None, 1)                 31        \n=================================================================\nTotal params: 571\nTrainable params: 571\nNon-trainable params: 0\n_________________________________________________________________\n"
     ]
    }
   ],
   "source": [
    "model2 = Sequential()\n",
    "model2.add(Dense(30, input_shape=(17,), activation='relu')) \n",
    "model2.add(Dense(1, activation='sigmoid'))  # 출력층 sigmoid\n",
    "model2.summary()"
   ]
  },
  {
   "cell_type": "code",
   "execution_count": 25,
   "metadata": {},
   "outputs": [],
   "source": [
    "model2.compile(\n",
    "    loss='binary_crossentropy', optimizer='adam', metrics=['accuracy'])"
   ]
  },
  {
   "cell_type": "code",
   "execution_count": 29,
   "metadata": {},
   "outputs": [
    {
     "output_type": "stream",
     "name": "stdout",
     "text": [
      "Epoch 1/20\n",
      "10/10 [==============================] - 0s 12ms/step - loss: 0.9353 - accuracy: 0.1352 - val_loss: 0.8454 - val_accuracy: 0.1972\n",
      "Epoch 2/20\n",
      "10/10 [==============================] - 0s 2ms/step - loss: 0.8371 - accuracy: 0.1601 - val_loss: 0.7702 - val_accuracy: 0.2394\n",
      "Epoch 3/20\n",
      "10/10 [==============================] - 0s 2ms/step - loss: 0.7566 - accuracy: 0.2349 - val_loss: 0.7092 - val_accuracy: 0.3380\n",
      "Epoch 4/20\n",
      "10/10 [==============================] - 0s 2ms/step - loss: 0.6894 - accuracy: 0.5445 - val_loss: 0.6586 - val_accuracy: 0.7606\n",
      "Epoch 5/20\n",
      "10/10 [==============================] - 0s 3ms/step - loss: 0.6300 - accuracy: 0.8114 - val_loss: 0.6165 - val_accuracy: 0.7887\n",
      "Epoch 6/20\n",
      "10/10 [==============================] - 0s 3ms/step - loss: 0.5798 - accuracy: 0.8505 - val_loss: 0.5782 - val_accuracy: 0.8028\n",
      "Epoch 7/20\n",
      "10/10 [==============================] - 0s 2ms/step - loss: 0.5316 - accuracy: 0.8683 - val_loss: 0.5469 - val_accuracy: 0.8028\n",
      "Epoch 8/20\n",
      "10/10 [==============================] - 0s 3ms/step - loss: 0.4930 - accuracy: 0.8648 - val_loss: 0.5244 - val_accuracy: 0.8028\n",
      "Epoch 9/20\n",
      "10/10 [==============================] - 0s 3ms/step - loss: 0.4636 - accuracy: 0.8648 - val_loss: 0.5099 - val_accuracy: 0.8028\n",
      "Epoch 10/20\n",
      "10/10 [==============================] - 0s 2ms/step - loss: 0.4432 - accuracy: 0.8648 - val_loss: 0.5013 - val_accuracy: 0.8028\n",
      "Epoch 11/20\n",
      "10/10 [==============================] - 0s 2ms/step - loss: 0.4273 - accuracy: 0.8648 - val_loss: 0.4982 - val_accuracy: 0.8028\n",
      "Epoch 12/20\n",
      "10/10 [==============================] - 0s 2ms/step - loss: 0.4186 - accuracy: 0.8648 - val_loss: 0.4981 - val_accuracy: 0.8028\n",
      "Epoch 13/20\n",
      "10/10 [==============================] - 0s 2ms/step - loss: 0.4120 - accuracy: 0.8648 - val_loss: 0.4982 - val_accuracy: 0.8028\n",
      "Epoch 14/20\n",
      "10/10 [==============================] - 0s 2ms/step - loss: 0.4090 - accuracy: 0.8648 - val_loss: 0.4999 - val_accuracy: 0.8028\n",
      "Epoch 15/20\n",
      "10/10 [==============================] - 0s 2ms/step - loss: 0.4060 - accuracy: 0.8648 - val_loss: 0.5016 - val_accuracy: 0.8028\n",
      "Epoch 16/20\n",
      "10/10 [==============================] - 0s 2ms/step - loss: 0.4035 - accuracy: 0.8648 - val_loss: 0.5027 - val_accuracy: 0.8028\n",
      "Epoch 17/20\n",
      "10/10 [==============================] - 0s 3ms/step - loss: 0.4019 - accuracy: 0.8648 - val_loss: 0.5023 - val_accuracy: 0.8028\n",
      "Epoch 18/20\n",
      "10/10 [==============================] - 0s 2ms/step - loss: 0.4001 - accuracy: 0.8648 - val_loss: 0.5025 - val_accuracy: 0.8028\n",
      "Epoch 19/20\n",
      "10/10 [==============================] - 0s 2ms/step - loss: 0.3981 - accuracy: 0.8648 - val_loss: 0.5027 - val_accuracy: 0.8028\n",
      "Epoch 20/20\n",
      "10/10 [==============================] - 0s 2ms/step - loss: 0.3968 - accuracy: 0.8648 - val_loss: 0.5028 - val_accuracy: 0.8028\n"
     ]
    },
    {
     "output_type": "execute_result",
     "data": {
      "text/plain": [
       "<tensorflow.python.keras.callbacks.History at 0x1aed24ed220>"
      ]
     },
     "metadata": {},
     "execution_count": 29
    }
   ],
   "source": [
    "model2.fit(\n",
    "    X_train, y_train,\n",
    "    validation_split=0.2,\n",
    "    epochs=20,\n",
    "    batch_size=30\n",
    "    )"
   ]
  },
  {
   "cell_type": "code",
   "execution_count": 31,
   "metadata": {},
   "outputs": [
    {
     "output_type": "stream",
     "name": "stdout",
     "text": [
      "4/4 [==============================] - 0s 500us/step - loss: 0.4406 - accuracy: 0.8475\n"
     ]
    },
    {
     "output_type": "execute_result",
     "data": {
      "text/plain": [
       "[0.44060346484184265, 0.8474576473236084]"
      ]
     },
     "metadata": {},
     "execution_count": 31
    }
   ],
   "source": [
    "model2.evaluate(X_test, y_test)"
   ]
  },
  {
   "cell_type": "code",
   "execution_count": null,
   "metadata": {},
   "outputs": [],
   "source": []
  }
 ]
}