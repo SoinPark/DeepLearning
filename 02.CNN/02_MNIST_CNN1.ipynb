{
 "metadata": {
  "language_info": {
   "codemirror_mode": {
    "name": "ipython",
    "version": 3
   },
   "file_extension": ".py",
   "mimetype": "text/x-python",
   "name": "python",
   "nbconvert_exporter": "python",
   "pygments_lexer": "ipython3",
   "version": "3.8.5"
  },
  "orig_nbformat": 4,
  "kernelspec": {
   "name": "python3",
   "display_name": "Python 3.8.5 64-bit ('base': conda)"
  },
  "interpreter": {
   "hash": "8c1eae21719a0790335dcb83aad72b63b602cfe5cdb2bda0f60bc11d4f154e4b"
  }
 },
 "nbformat": 4,
 "nbformat_minor": 2,
 "cells": [
  {
   "source": [
    "# MNIST 손글씨 - CNN(Convolutional Neural Network) 1\n",
    "- 2 Conv2d layers\n",
    "- 1 Fully Connected Network layer\n",
    "- 1 Output layer\n",
    "- CNN: 데이터의 특징을 추출하여 특징들의 패턴을 파악하는 구조"
   ],
   "cell_type": "markdown",
   "metadata": {}
  },
  {
   "cell_type": "code",
   "execution_count": 1,
   "metadata": {},
   "outputs": [],
   "source": [
    "import numpy as np\n",
    "import pandas as pd\n",
    "import tensorflow as tf\n",
    "seed = 2021\n",
    "np.random.seed(seed)\n",
    "tf.random.set_seed(seed)"
   ]
  },
  {
   "source": [
    "## 데이터 전처리"
   ],
   "cell_type": "markdown",
   "metadata": {}
  },
  {
   "cell_type": "code",
   "execution_count": 2,
   "metadata": {},
   "outputs": [],
   "source": [
    "from tensorflow.keras.datasets import mnist\n",
    "(X_train, y_train), (X_test, y_test) = mnist.load_data()"
   ]
  },
  {
   "cell_type": "code",
   "execution_count": 3,
   "metadata": {},
   "outputs": [],
   "source": [
    "# 0 ~ 1 사이의 값으로 정규화 \n",
    "X_train = X_train / 255.0\n",
    "X_test = X_test / 255.0"
   ]
  },
  {
   "cell_type": "code",
   "execution_count": 4,
   "metadata": {},
   "outputs": [
    {
     "output_type": "execute_result",
     "data": {
      "text/plain": [
       "((60000, 28, 28, 1), (10000, 28, 28, 1))"
      ]
     },
     "metadata": {},
     "execution_count": 4
    }
   ],
   "source": [
    "# 3차원 데이터를 4차원으로 (데이터는 2차원을 3차원으로)\n",
    "X_train = X_train.reshape(-1, 28, 28, 1)\n",
    "X_test = X_test.reshape(-1, 28, 28, 1)\n",
    "X_train.shape, X_test.shape"
   ]
  },
  {
   "cell_type": "code",
   "execution_count": 5,
   "metadata": {},
   "outputs": [],
   "source": [
    "# One-hot encoding\n",
    "from tensorflow.keras.utils import to_categorical\n",
    "Y_train = to_categorical(y_train)\n",
    "Y_test = to_categorical(y_test)\n"
   ]
  },
  {
   "source": [
    "## 모델 정의, 설정. 학습, 평가"
   ],
   "cell_type": "markdown",
   "metadata": {}
  },
  {
   "cell_type": "code",
   "execution_count": 6,
   "metadata": {},
   "outputs": [],
   "source": [
    "# Flatten(2차원을 1차원으로)\n",
    "from tensorflow.keras.models import Sequential\n",
    "from tensorflow.keras.layers import Dense, Conv2D, Flatten\n",
    "from tensorflow.keras.callbacks import ModelCheckpoint, EarlyStopping"
   ]
  },
  {
   "cell_type": "code",
   "execution_count": 8,
   "metadata": {},
   "outputs": [
    {
     "output_type": "stream",
     "name": "stdout",
     "text": [
      "Model: \"sequential\"\n_________________________________________________________________\nLayer (type)                 Output Shape              Param #   \n=================================================================\nconv2d (Conv2D)              (None, 26, 26, 32)        320       \n_________________________________________________________________\nconv2d_1 (Conv2D)            (None, 24, 24, 64)        18496     \n_________________________________________________________________\nflatten (Flatten)            (None, 36864)             0         \n_________________________________________________________________\ndense (Dense)                (None, 512)               18874880  \n_________________________________________________________________\ndense_1 (Dense)              (None, 10)                5130      \n=================================================================\nTotal params: 18,898,826\nTrainable params: 18,898,826\nNon-trainable params: 0\n_________________________________________________________________\n"
     ]
    }
   ],
   "source": [
    "# 32, (3,3): 마스크의 갯수, 커널사이즈\n",
    "model = Sequential([\n",
    "    Conv2D(32, (3,3), input_shape=(28,28,1), activation='relu'),\n",
    "    Conv2D(64, (3,3), activation='relu'),       # 여기까지 2차원\n",
    "    Flatten(),                                  # 1차원으로 변환\n",
    "    Dense(512, activation='relu'),\n",
    "    Dense(10, activation='softmax')             # output의 노드가 10개\n",
    "])\n",
    "model.summary()"
   ]
  },
  {
   "cell_type": "code",
   "execution_count": 9,
   "metadata": {},
   "outputs": [],
   "source": [
    "model.compile(\n",
    "    optimizer='adam', loss='categorical_crossentropy', metrics=['accuracy']\n",
    ")"
   ]
  },
  {
   "cell_type": "code",
   "execution_count": 10,
   "metadata": {},
   "outputs": [],
   "source": [
    "# 모델 최적화를 위한 설정\n",
    "modelpath  = 'model/best_mnist.cnn_1.h5'\n",
    "checkpoint = ModelCheckpoint(\n",
    "    modelpath, verbose=1, save_best_only=True\n",
    ")\n",
    "early_stopping = EarlyStopping(patience=10)"
   ]
  },
  {
   "cell_type": "code",
   "execution_count": 11,
   "metadata": {},
   "outputs": [
    {
     "output_type": "stream",
     "name": "stdout",
     "text": [
      "\n",
      "Epoch 00001: val_loss improved from inf to 0.05080, saving model to model\\best_mnist.cnn_1.h5\n",
      "\n",
      "Epoch 00002: val_loss did not improve from 0.05080\n",
      "\n",
      "Epoch 00003: val_loss improved from 0.05080 to 0.04662, saving model to model\\best_mnist.cnn_1.h5\n",
      "\n",
      "Epoch 00004: val_loss did not improve from 0.04662\n",
      "\n",
      "Epoch 00005: val_loss did not improve from 0.04662\n",
      "\n",
      "Epoch 00006: val_loss did not improve from 0.04662\n",
      "\n",
      "Epoch 00007: val_loss did not improve from 0.04662\n",
      "\n",
      "Epoch 00008: val_loss did not improve from 0.04662\n",
      "\n",
      "Epoch 00009: val_loss did not improve from 0.04662\n",
      "\n",
      "Epoch 00010: val_loss did not improve from 0.04662\n",
      "\n",
      "Epoch 00011: val_loss did not improve from 0.04662\n",
      "\n",
      "Epoch 00012: val_loss did not improve from 0.04662\n",
      "\n",
      "Epoch 00013: val_loss did not improve from 0.04662\n"
     ]
    }
   ],
   "source": [
    "# 모델 학습\n",
    "history = model.fit(X_train, Y_train, validation_split=0.2,\n",
    "                    epochs=50, batch_size=200, verbose=0,\n",
    "                    callbacks=[checkpoint, early_stopping]\n",
    "                    )"
   ]
  },
  {
   "cell_type": "code",
   "execution_count": 14,
   "metadata": {},
   "outputs": [
    {
     "output_type": "stream",
     "name": "stdout",
     "text": [
      "313/313 [==============================] - 6s 18ms/step - loss: 0.0348 - accuracy: 0.9880\n"
     ]
    },
    {
     "output_type": "execute_result",
     "data": {
      "text/plain": [
       "[0.03477019444108009, 0.9879999756813049]"
      ]
     },
     "metadata": {},
     "execution_count": 14
    }
   ],
   "source": [
    "from tensorflow.keras.models import load_model\n",
    "best_model = load_model(modelpath)\n",
    "best_model.evaluate(X_test, Y_test)"
   ]
  },
  {
   "cell_type": "code",
   "execution_count": null,
   "metadata": {},
   "outputs": [],
   "source": []
  }
 ]
}