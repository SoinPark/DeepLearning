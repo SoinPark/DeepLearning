{
  "nbformat": 4,
  "nbformat_minor": 0,
  "metadata": {
    "colab": {
      "name": "MNIST_CNN2.ipynb",
      "provenance": []
    },
    "kernelspec": {
      "name": "python3",
      "display_name": "Python 3"
    },
    "language_info": {
      "name": "python"
    },
    "accelerator": "GPU"
  },
  "cells": [
    {
      "cell_type": "markdown",
      "metadata": {
        "id": "xnjLrUMinU2U"
      },
      "source": [
        "# MNIST 손글씨 - CNN 2\n",
        "- 2 Conv2d layers\n",
        "- 1 MaxPooling layer\n",
        "- 1 Fully Connected Network layer\n",
        "- 1 Output layer"
      ]
    },
    {
      "cell_type": "code",
      "metadata": {
        "id": "M0nDp3AbnWzW"
      },
      "source": [
        "import numpy as np\n",
        "import pandas as pd\n",
        "import tensorflow as tf\n",
        "seed = 2021\n",
        "np.random.seed(seed)\n",
        "tf.random.set_seed(seed)"
      ],
      "execution_count": 1,
      "outputs": []
    },
    {
      "cell_type": "markdown",
      "metadata": {
        "id": "qBxf1cnoni6U"
      },
      "source": [
        "### 데이터 전처리"
      ]
    },
    {
      "cell_type": "code",
      "metadata": {
        "id": "3SOzInogndMO",
        "colab": {
          "base_uri": "https://localhost:8080/"
        },
        "outputId": "5f604a24-09fe-48e5-be88-7bec3f3a54e5"
      },
      "source": [
        "from tensorflow.keras.datasets import mnist\n",
        "(X_train, y_train), (X_test, y_test) = mnist.load_data()"
      ],
      "execution_count": 2,
      "outputs": [
        {
          "output_type": "stream",
          "text": [
            "Downloading data from https://storage.googleapis.com/tensorflow/tf-keras-datasets/mnist.npz\n",
            "11493376/11490434 [==============================] - 0s 0us/step\n"
          ],
          "name": "stdout"
        }
      ]
    },
    {
      "cell_type": "code",
      "metadata": {
        "id": "_WU39sKMnmbC"
      },
      "source": [
        "# 0 ~ 1 사이의 값으로 정규화 \n",
        "X_train = X_train / 255.0\n",
        "X_test = X_test / 255.0"
      ],
      "execution_count": 3,
      "outputs": []
    },
    {
      "cell_type": "code",
      "metadata": {
        "id": "Aoid15cenn6L",
        "colab": {
          "base_uri": "https://localhost:8080/"
        },
        "outputId": "cb947b74-191d-412f-9f62-c7eb9f88133d"
      },
      "source": [
        "# 3차원 데이터를 4차원으로 (데이터는 2차원을 3차원으로)\n",
        "X_train = X_train.reshape(-1, 28, 28, 1)\n",
        "X_test = X_test.reshape(-1, 28, 28, 1)\n",
        "X_train.shape, X_test.shape"
      ],
      "execution_count": 4,
      "outputs": [
        {
          "output_type": "execute_result",
          "data": {
            "text/plain": [
              "((60000, 28, 28, 1), (10000, 28, 28, 1))"
            ]
          },
          "metadata": {
            "tags": []
          },
          "execution_count": 4
        }
      ]
    },
    {
      "cell_type": "code",
      "metadata": {
        "id": "NlFxQ0wmnpPp"
      },
      "source": [
        "# One-hot encoding\n",
        "from tensorflow.keras.utils import to_categorical\n",
        "Y_train = to_categorical(y_train)\n",
        "Y_test = to_categorical(y_test)"
      ],
      "execution_count": 5,
      "outputs": []
    },
    {
      "cell_type": "markdown",
      "metadata": {
        "id": "ot-5bPJsnx0s"
      },
      "source": [
        "### 모델 정의, 설정, 학습, 평가"
      ]
    },
    {
      "cell_type": "code",
      "metadata": {
        "id": "zbtsAdlwntIa"
      },
      "source": [
        "# Flatten(2차원을 1차원으로)\n",
        "from tensorflow.keras.models import Sequential\n",
        "from tensorflow.keras.layers import Dense, Conv2D, Flatten, MaxPooling2D\n",
        "from tensorflow.keras.callbacks import ModelCheckpoint, EarlyStopping"
      ],
      "execution_count": 6,
      "outputs": []
    },
    {
      "cell_type": "code",
      "metadata": {
        "id": "C6pI7mK0n2dE",
        "colab": {
          "base_uri": "https://localhost:8080/"
        },
        "outputId": "7a094193-7b3a-4784-937d-4ad25770f30c"
      },
      "source": [
        "# 32, (3,3): 마스크의 갯수, 커널사이즈\n",
        "model = Sequential([\n",
        "    Conv2D(32, (3,3), input_shape=(28,28,1), activation='relu'),\n",
        "    Conv2D(64, (3,3), activation='relu'),       # 여기까지 2차원\n",
        "    MaxPooling2D(pool_size=2),\n",
        "    Flatten(),                                  # 1차원으로 변환\n",
        "    Dense(512, activation='relu'),\n",
        "    Dense(10, activation='softmax')             # output의 노드가 10개\n",
        "])\n",
        "model.summary()"
      ],
      "execution_count": 7,
      "outputs": [
        {
          "output_type": "stream",
          "text": [
            "Model: \"sequential\"\n",
            "_________________________________________________________________\n",
            "Layer (type)                 Output Shape              Param #   \n",
            "=================================================================\n",
            "conv2d (Conv2D)              (None, 26, 26, 32)        320       \n",
            "_________________________________________________________________\n",
            "conv2d_1 (Conv2D)            (None, 24, 24, 64)        18496     \n",
            "_________________________________________________________________\n",
            "max_pooling2d (MaxPooling2D) (None, 12, 12, 64)        0         \n",
            "_________________________________________________________________\n",
            "flatten (Flatten)            (None, 9216)              0         \n",
            "_________________________________________________________________\n",
            "dense (Dense)                (None, 512)               4719104   \n",
            "_________________________________________________________________\n",
            "dense_1 (Dense)              (None, 10)                5130      \n",
            "=================================================================\n",
            "Total params: 4,743,050\n",
            "Trainable params: 4,743,050\n",
            "Non-trainable params: 0\n",
            "_________________________________________________________________\n"
          ],
          "name": "stdout"
        }
      ]
    },
    {
      "cell_type": "code",
      "metadata": {
        "id": "u_3HKinfn35w"
      },
      "source": [
        "model.compile(\n",
        "    optimizer='adam', loss='categorical_crossentropy', metrics=['accuracy']\n",
        ")"
      ],
      "execution_count": 8,
      "outputs": []
    },
    {
      "cell_type": "code",
      "metadata": {
        "id": "UoZLZZZeoCUz"
      },
      "source": [
        "# 모델 최적화를 위한 설정\n",
        "modelpath  = 'model/best_mnist.cnn_2.h5'\n",
        "checkpoint = ModelCheckpoint(\n",
        "    modelpath, verbose=1, save_best_only=True\n",
        ")\n",
        "early_stopping = EarlyStopping(patience=10)"
      ],
      "execution_count": 9,
      "outputs": []
    },
    {
      "cell_type": "code",
      "metadata": {
        "colab": {
          "base_uri": "https://localhost:8080/"
        },
        "id": "yL8saEL1oDsZ",
        "outputId": "347f79e8-ad9c-445c-8f86-2b93e0126bc5"
      },
      "source": [
        "# 모델 학습\n",
        "history = model.fit(X_train, Y_train, validation_split=0.2,\n",
        "                    epochs=50, batch_size=200, verbose=0,\n",
        "                    callbacks=[checkpoint, early_stopping]\n",
        "                    )"
      ],
      "execution_count": 10,
      "outputs": [
        {
          "output_type": "stream",
          "text": [
            "\n",
            "Epoch 00001: val_loss improved from inf to 0.05873, saving model to model/best_mnist.cnn_2.h5\n",
            "\n",
            "Epoch 00002: val_loss improved from 0.05873 to 0.04655, saving model to model/best_mnist.cnn_2.h5\n",
            "\n",
            "Epoch 00003: val_loss improved from 0.04655 to 0.04357, saving model to model/best_mnist.cnn_2.h5\n",
            "\n",
            "Epoch 00004: val_loss improved from 0.04357 to 0.04128, saving model to model/best_mnist.cnn_2.h5\n",
            "\n",
            "Epoch 00005: val_loss did not improve from 0.04128\n",
            "\n",
            "Epoch 00006: val_loss did not improve from 0.04128\n",
            "\n",
            "Epoch 00007: val_loss did not improve from 0.04128\n",
            "\n",
            "Epoch 00008: val_loss did not improve from 0.04128\n",
            "\n",
            "Epoch 00009: val_loss did not improve from 0.04128\n",
            "\n",
            "Epoch 00010: val_loss did not improve from 0.04128\n",
            "\n",
            "Epoch 00011: val_loss did not improve from 0.04128\n",
            "\n",
            "Epoch 00012: val_loss did not improve from 0.04128\n",
            "\n",
            "Epoch 00013: val_loss did not improve from 0.04128\n",
            "\n",
            "Epoch 00014: val_loss did not improve from 0.04128\n"
          ],
          "name": "stdout"
        }
      ]
    },
    {
      "cell_type": "code",
      "metadata": {
        "id": "kH2v_ad3oFPd",
        "colab": {
          "base_uri": "https://localhost:8080/"
        },
        "outputId": "6865e75c-1341-46ed-e07e-a2bc86633dd5"
      },
      "source": [
        "from tensorflow.keras.models import load_model\n",
        "best_model = load_model(modelpath)\n",
        "best_model.evaluate(X_test, Y_test)"
      ],
      "execution_count": 12,
      "outputs": [
        {
          "output_type": "stream",
          "text": [
            "313/313 [==============================] - 1s 3ms/step - loss: 0.0408 - accuracy: 0.9871\n"
          ],
          "name": "stdout"
        },
        {
          "output_type": "execute_result",
          "data": {
            "text/plain": [
              "[0.04078548774123192, 0.9871000051498413]"
            ]
          },
          "metadata": {
            "tags": []
          },
          "execution_count": 12
        }
      ]
    },
    {
      "cell_type": "code",
      "metadata": {
        "id": "XGBclRIwpPoB"
      },
      "source": [
        ""
      ],
      "execution_count": null,
      "outputs": []
    }
  ]
}