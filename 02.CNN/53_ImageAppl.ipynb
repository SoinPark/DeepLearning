{
 "metadata": {
  "language_info": {
   "codemirror_mode": {
    "name": "ipython",
    "version": 3
   },
   "file_extension": ".py",
   "mimetype": "text/x-python",
   "name": "python",
   "nbconvert_exporter": "python",
   "pygments_lexer": "ipython3",
   "version": "3.8.5"
  },
  "orig_nbformat": 4,
  "kernelspec": {
   "name": "python3",
   "display_name": "Python 3.8.5 64-bit ('base': conda)"
  },
  "interpreter": {
   "hash": "8c1eae21719a0790335dcb83aad72b63b602cfe5cdb2bda0f60bc11d4f154e4b"
  }
 },
 "nbformat": 4,
 "nbformat_minor": 2,
 "cells": [
  {
   "source": [
    "# Keras Application 응용"
   ],
   "cell_type": "markdown",
   "metadata": {}
  },
  {
   "cell_type": "code",
   "execution_count": 2,
   "metadata": {},
   "outputs": [
    {
     "output_type": "execute_result",
     "data": {
      "text/plain": [
       "['animal\\\\bear.jfif',\n",
       " 'animal\\\\crocodile.jfif',\n",
       " 'animal\\\\dolphin.jfif',\n",
       " 'animal\\\\eagle.jfif',\n",
       " 'animal\\\\elephant.jfif',\n",
       " 'animal\\\\lion.jfif',\n",
       " 'animal\\\\penguin.jfif',\n",
       " 'animal\\\\rabbit.jfif',\n",
       " 'animal\\\\shark.jfif',\n",
       " 'animal\\\\sparrow.jfif']"
      ]
     },
     "metadata": {},
     "execution_count": 2
    }
   ],
   "source": [
    " from glob import glob\n",
    " glob('animal/*')"
   ]
  },
  {
   "cell_type": "code",
   "execution_count": 3,
   "metadata": {},
   "outputs": [
    {
     "output_type": "execute_result",
     "data": {
      "text/plain": [
       "['bear',\n",
       " 'crocodile',\n",
       " 'dolphin',\n",
       " 'eagle',\n",
       " 'elephant',\n",
       " 'lion',\n",
       " 'penguin',\n",
       " 'rabbit',\n",
       " 'shark',\n",
       " 'sparrow']"
      ]
     },
     "metadata": {},
     "execution_count": 3
    }
   ],
   "source": [
    "name_list = []\n",
    "for file in glob('animal/*'):\n",
    "    name = file.split('\\\\')[1]\n",
    "    name = name.split('.')[0]\n",
    "    name_list.append(name)\n",
    "name_list"
   ]
  },
  {
   "source": [
    "## VGG16"
   ],
   "cell_type": "markdown",
   "metadata": {}
  },
  {
   "cell_type": "code",
   "execution_count": 6,
   "metadata": {},
   "outputs": [],
   "source": [
    "from tensorflow.keras.applications.vgg16 import VGG16, decode_predictions\n",
    "import numpy as np\n",
    "from PIL import Image"
   ]
  },
  {
   "cell_type": "code",
   "execution_count": 7,
   "metadata": {},
   "outputs": [
    {
     "output_type": "execute_result",
     "data": {
      "text/plain": [
       "['brown_bear',\n",
       " 'agama',\n",
       " 'conch',\n",
       " 'kite',\n",
       " 'African_elephant',\n",
       " 'lion',\n",
       " 'king_penguin',\n",
       " 'hare',\n",
       " 'conch',\n",
       " 'junco']"
      ]
     },
     "metadata": {},
     "execution_count": 7
    }
   ],
   "source": [
    "vgg16 = VGG16()\n",
    "vgg16_list = []\n",
    "for file in glob('animal/*'):\n",
    "    img = np.array(Image.open(file).resize((224,224)))\n",
    "    yhat = vgg16.predict(img.reshape(-1, 224, 224, 3))\n",
    "    label = decode_predictions(yhat)\n",
    "    vgg16_list.append(label[0][0][1])\n",
    "vgg16_list"
   ]
  },
  {
   "source": [
    "## VGG19"
   ],
   "cell_type": "markdown",
   "metadata": {}
  },
  {
   "cell_type": "code",
   "execution_count": 8,
   "metadata": {},
   "outputs": [
    {
     "output_type": "stream",
     "name": "stdout",
     "text": [
      "Downloading data from https://storage.googleapis.com/tensorflow/keras-applications/vgg19/vgg19_weights_tf_dim_ordering_tf_kernels.h5\n",
      "574717952/574710816 [==============================] - 101s 0us/step\n"
     ]
    }
   ],
   "source": [
    "from tensorflow.keras.applications.vgg19 import VGG19, decode_predictions\n",
    "vgg19 = VGG19()"
   ]
  },
  {
   "cell_type": "code",
   "execution_count": 9,
   "metadata": {},
   "outputs": [],
   "source": [
    "import cv2"
   ]
  },
  {
   "cell_type": "code",
   "execution_count": 11,
   "metadata": {},
   "outputs": [
    {
     "output_type": "execute_result",
     "data": {
      "text/plain": [
       "['white_wolf',\n",
       " 'frilled_lizard',\n",
       " 'hammerhead',\n",
       " 'kite',\n",
       " 'African_elephant',\n",
       " 'snow_leopard',\n",
       " 'king_penguin',\n",
       " 'hare',\n",
       " 'radiator',\n",
       " 'house_finch']"
      ]
     },
     "metadata": {},
     "execution_count": 11
    }
   ],
   "source": [
    "vgg19_list = []\n",
    "for file in glob('animal/*'):\n",
    "    img = cv2.imread(file)\n",
    "    img = cv2.resize(img, (224,224))\n",
    "    img = cv2.cvtColor(img, cv2.COLOR_BGR2RGB)\n",
    "\n",
    "    yhat = vgg19.predict(img.reshape(-1, 224, 224, 3))\n",
    "    label = decode_predictions(yhat)\n",
    "    vgg19_list.append(label[0][0][1])\n",
    "vgg19_list"
   ]
  },
  {
   "source": [
    "## ResNet 50"
   ],
   "cell_type": "markdown",
   "metadata": {}
  },
  {
   "cell_type": "code",
   "execution_count": 12,
   "metadata": {},
   "outputs": [],
   "source": [
    "from tensorflow.keras.applications.resnet50 import ResNet50, decode_predictions\n",
    "resnet50 = ResNet50()"
   ]
  },
  {
   "cell_type": "code",
   "execution_count": 13,
   "metadata": {},
   "outputs": [
    {
     "output_type": "execute_result",
     "data": {
      "text/plain": [
       "['brown_bear',\n",
       " 'triceratops',\n",
       " 'piggy_bank',\n",
       " 'kite',\n",
       " 'African_elephant',\n",
       " 'lion',\n",
       " 'king_penguin',\n",
       " 'hare',\n",
       " 'goose',\n",
       " 'chickadee']"
      ]
     },
     "metadata": {},
     "execution_count": 13
    }
   ],
   "source": [
    "resnet50_list = []\n",
    "for file in glob('animal/*'):\n",
    "    img = np.array(Image.open(file).resize((224,224)))\n",
    "    yhat = resnet50.predict(img.reshape(-1, 224, 224, 3))\n",
    "    label = decode_predictions(yhat)\n",
    "    resnet50_list.append(label[0][0][1])\n",
    "resnet50_list"
   ]
  },
  {
   "source": [
    "## ResNet 101"
   ],
   "cell_type": "markdown",
   "metadata": {}
  },
  {
   "cell_type": "code",
   "execution_count": 14,
   "metadata": {},
   "outputs": [
    {
     "output_type": "stream",
     "name": "stdout",
     "text": [
      "Downloading data from https://storage.googleapis.com/tensorflow/keras-applications/resnet/resnet101_weights_tf_dim_ordering_tf_kernels.h5\n",
      "179650560/179648224 [==============================] - 30s 0us/step\n"
     ]
    }
   ],
   "source": [
    "from tensorflow.keras.applications.resnet import ResNet101, decode_predictions\n",
    "resnet101 = ResNet101()"
   ]
  },
  {
   "cell_type": "code",
   "execution_count": 15,
   "metadata": {},
   "outputs": [
    {
     "output_type": "execute_result",
     "data": {
      "text/plain": [
       "['brown_bear',\n",
       " 'banded_gecko',\n",
       " 'miniature_pinscher',\n",
       " 'kite',\n",
       " 'African_elephant',\n",
       " 'lion',\n",
       " 'king_penguin',\n",
       " 'hare',\n",
       " 'great_white_shark',\n",
       " 'indigo_bunting']"
      ]
     },
     "metadata": {},
     "execution_count": 15
    }
   ],
   "source": [
    "resnet101_list = []\n",
    "for file in glob('animal/*'):\n",
    "    img = np.array(Image.open(file).resize((224,224)))\n",
    "    yhat = resnet101.predict(img.reshape(-1, 224, 224, 3))\n",
    "    label = decode_predictions(yhat)\n",
    "    resnet101_list.append(label[0][0][1])\n",
    "resnet101_list"
   ]
  },
  {
   "source": [
    "## 데이터 프레임으로 합치기"
   ],
   "cell_type": "markdown",
   "metadata": {}
  },
  {
   "cell_type": "code",
   "execution_count": 16,
   "metadata": {},
   "outputs": [
    {
     "output_type": "execute_result",
     "data": {
      "text/plain": [
       "    Original             VGG16             VGG19          ResNet50  \\\n",
       "0       bear        brown_bear        white_wolf        brown_bear   \n",
       "1  crocodile             agama    frilled_lizard       triceratops   \n",
       "2    dolphin             conch        hammerhead        piggy_bank   \n",
       "3      eagle              kite              kite              kite   \n",
       "4   elephant  African_elephant  African_elephant  African_elephant   \n",
       "5       lion              lion      snow_leopard              lion   \n",
       "6    penguin      king_penguin      king_penguin      king_penguin   \n",
       "7     rabbit              hare              hare              hare   \n",
       "8      shark             conch          radiator             goose   \n",
       "9    sparrow             junco       house_finch         chickadee   \n",
       "\n",
       "            ResNet101  \n",
       "0          brown_bear  \n",
       "1        banded_gecko  \n",
       "2  miniature_pinscher  \n",
       "3                kite  \n",
       "4    African_elephant  \n",
       "5                lion  \n",
       "6        king_penguin  \n",
       "7                hare  \n",
       "8   great_white_shark  \n",
       "9      indigo_bunting  "
      ],
      "text/html": "<div>\n<style scoped>\n    .dataframe tbody tr th:only-of-type {\n        vertical-align: middle;\n    }\n\n    .dataframe tbody tr th {\n        vertical-align: top;\n    }\n\n    .dataframe thead th {\n        text-align: right;\n    }\n</style>\n<table border=\"1\" class=\"dataframe\">\n  <thead>\n    <tr style=\"text-align: right;\">\n      <th></th>\n      <th>Original</th>\n      <th>VGG16</th>\n      <th>VGG19</th>\n      <th>ResNet50</th>\n      <th>ResNet101</th>\n    </tr>\n  </thead>\n  <tbody>\n    <tr>\n      <th>0</th>\n      <td>bear</td>\n      <td>brown_bear</td>\n      <td>white_wolf</td>\n      <td>brown_bear</td>\n      <td>brown_bear</td>\n    </tr>\n    <tr>\n      <th>1</th>\n      <td>crocodile</td>\n      <td>agama</td>\n      <td>frilled_lizard</td>\n      <td>triceratops</td>\n      <td>banded_gecko</td>\n    </tr>\n    <tr>\n      <th>2</th>\n      <td>dolphin</td>\n      <td>conch</td>\n      <td>hammerhead</td>\n      <td>piggy_bank</td>\n      <td>miniature_pinscher</td>\n    </tr>\n    <tr>\n      <th>3</th>\n      <td>eagle</td>\n      <td>kite</td>\n      <td>kite</td>\n      <td>kite</td>\n      <td>kite</td>\n    </tr>\n    <tr>\n      <th>4</th>\n      <td>elephant</td>\n      <td>African_elephant</td>\n      <td>African_elephant</td>\n      <td>African_elephant</td>\n      <td>African_elephant</td>\n    </tr>\n    <tr>\n      <th>5</th>\n      <td>lion</td>\n      <td>lion</td>\n      <td>snow_leopard</td>\n      <td>lion</td>\n      <td>lion</td>\n    </tr>\n    <tr>\n      <th>6</th>\n      <td>penguin</td>\n      <td>king_penguin</td>\n      <td>king_penguin</td>\n      <td>king_penguin</td>\n      <td>king_penguin</td>\n    </tr>\n    <tr>\n      <th>7</th>\n      <td>rabbit</td>\n      <td>hare</td>\n      <td>hare</td>\n      <td>hare</td>\n      <td>hare</td>\n    </tr>\n    <tr>\n      <th>8</th>\n      <td>shark</td>\n      <td>conch</td>\n      <td>radiator</td>\n      <td>goose</td>\n      <td>great_white_shark</td>\n    </tr>\n    <tr>\n      <th>9</th>\n      <td>sparrow</td>\n      <td>junco</td>\n      <td>house_finch</td>\n      <td>chickadee</td>\n      <td>indigo_bunting</td>\n    </tr>\n  </tbody>\n</table>\n</div>"
     },
     "metadata": {},
     "execution_count": 16
    }
   ],
   "source": [
    "import pandas as pd\n",
    "df = pd.DataFrame({'Original':name_list, 'VGG16':vgg16_list, 'VGG19':vgg19_list,\n",
    "                   'ResNet50':resnet50_list, 'ResNet101':resnet101_list})\n",
    "df"
   ]
  },
  {
   "cell_type": "code",
   "execution_count": null,
   "metadata": {},
   "outputs": [],
   "source": []
  }
 ]
}