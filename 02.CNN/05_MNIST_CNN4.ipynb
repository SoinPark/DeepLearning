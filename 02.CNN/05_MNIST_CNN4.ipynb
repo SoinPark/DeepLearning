{
  "nbformat": 4,
  "nbformat_minor": 0,
  "metadata": {
    "accelerator": "GPU",
    "colab": {
      "name": "05_MNIST_CNN4.ipynb",
      "provenance": []
    },
    "kernelspec": {
      "display_name": "Python 3",
      "name": "python3"
    },
    "language_info": {
      "name": "python"
    }
  },
  "cells": [
    {
      "cell_type": "markdown",
      "metadata": {
        "id": "xnjLrUMinU2U"
      },
      "source": [
        "# MNIST 손글씨 - CNN 4\n",
        "- 2 Conv2D layers with padding\n",
        "- 1 MaxPooling2D layer\n",
        "- 1 Dropout(0.25) layer\n",
        "- 1 Fully Connected Network(512) layer\n",
        "- 1 Dropout(0.5) layer\n",
        "- 1 Output layer\n",
        "\n"
      ]
    },
    {
      "cell_type": "code",
      "metadata": {
        "id": "M0nDp3AbnWzW"
      },
      "source": [
        "import numpy as np\n",
        "import pandas as pd\n",
        "import tensorflow as tf\n",
        "seed = 2021\n",
        "np.random.seed(seed)\n",
        "tf.random.set_seed(seed)"
      ],
      "execution_count": 1,
      "outputs": []
    },
    {
      "cell_type": "markdown",
      "metadata": {
        "id": "qBxf1cnoni6U"
      },
      "source": [
        "### 데이터 전처리"
      ]
    },
    {
      "cell_type": "code",
      "metadata": {
        "colab": {
          "base_uri": "https://localhost:8080/"
        },
        "id": "3SOzInogndMO",
        "outputId": "f6a6c6ca-ccda-4405-f95c-2c850cdd08f1"
      },
      "source": [
        "from tensorflow.keras.datasets import mnist\n",
        "(X_train, y_train), (X_test, y_test) = mnist.load_data()"
      ],
      "execution_count": 2,
      "outputs": [
        {
          "output_type": "stream",
          "text": [
            "Downloading data from https://storage.googleapis.com/tensorflow/tf-keras-datasets/mnist.npz\n",
            "11493376/11490434 [==============================] - 0s 0us/step\n"
          ],
          "name": "stdout"
        }
      ]
    },
    {
      "cell_type": "code",
      "metadata": {
        "id": "_WU39sKMnmbC"
      },
      "source": [
        "# 0 ~ 1 사이의 값으로 정규화 \n",
        "X_train = X_train / 255.0\n",
        "X_test = X_test / 255.0"
      ],
      "execution_count": 3,
      "outputs": []
    },
    {
      "cell_type": "code",
      "metadata": {
        "colab": {
          "base_uri": "https://localhost:8080/"
        },
        "id": "Aoid15cenn6L",
        "outputId": "1b1c39db-6423-4f45-d707-925b48da9ed5"
      },
      "source": [
        "# 3차원 데이터를 4차원으로 (데이터는 2차원을 3차원으로)\n",
        "X_train = X_train.reshape(-1, 28, 28, 1)\n",
        "X_test = X_test.reshape(-1, 28, 28, 1)\n",
        "X_train.shape, X_test.shape"
      ],
      "execution_count": 4,
      "outputs": [
        {
          "output_type": "execute_result",
          "data": {
            "text/plain": [
              "((60000, 28, 28, 1), (10000, 28, 28, 1))"
            ]
          },
          "metadata": {
            "tags": []
          },
          "execution_count": 4
        }
      ]
    },
    {
      "cell_type": "code",
      "metadata": {
        "id": "NlFxQ0wmnpPp"
      },
      "source": [
        "# One-hot encoding\n",
        "from tensorflow.keras.utils import to_categorical\n",
        "Y_train = to_categorical(y_train)\n",
        "Y_test = to_categorical(y_test)"
      ],
      "execution_count": 13,
      "outputs": []
    },
    {
      "cell_type": "markdown",
      "metadata": {
        "id": "ot-5bPJsnx0s"
      },
      "source": [
        "### 모델 정의, 설정, 학습, 평가"
      ]
    },
    {
      "cell_type": "code",
      "metadata": {
        "id": "zbtsAdlwntIa"
      },
      "source": [
        "# Flatten(2차원을 1차원으로)\n",
        "from tensorflow.keras.models import Sequential\n",
        "from tensorflow.keras.layers import Dense, Conv2D, Flatten, MaxPooling2D, Dropout\n",
        "from tensorflow.keras.callbacks import ModelCheckpoint, EarlyStopping"
      ],
      "execution_count": 14,
      "outputs": []
    },
    {
      "cell_type": "code",
      "metadata": {
        "colab": {
          "base_uri": "https://localhost:8080/"
        },
        "id": "C6pI7mK0n2dE",
        "outputId": "312f76d6-a228-4e49-d387-c8bc1852239b"
      },
      "source": [
        "model = Sequential([\n",
        "    Conv2D(32, (3,3), padding='same', input_shape=(28,28,1), activation='relu'),\n",
        "    Conv2D(64, (3,3), padding='same', activation='relu'),\n",
        "    MaxPooling2D(pool_size=2),\n",
        "    Dropout(0.25),\n",
        "    Flatten(),                              # n차원을 1차원으로 변환\n",
        "    Dense(512, activation='relu'),\n",
        "    Dropout(0.5),\n",
        "    Dense(10, activation='softmax')\n",
        "])\n",
        "model.summary()"
      ],
      "execution_count": 15,
      "outputs": [
        {
          "output_type": "stream",
          "text": [
            "Model: \"sequential_2\"\n",
            "_________________________________________________________________\n",
            "Layer (type)                 Output Shape              Param #   \n",
            "=================================================================\n",
            "conv2d_4 (Conv2D)            (None, 28, 28, 32)        320       \n",
            "_________________________________________________________________\n",
            "conv2d_5 (Conv2D)            (None, 28, 28, 64)        18496     \n",
            "_________________________________________________________________\n",
            "max_pooling2d_2 (MaxPooling2 (None, 14, 14, 64)        0         \n",
            "_________________________________________________________________\n",
            "dropout_4 (Dropout)          (None, 14, 14, 64)        0         \n",
            "_________________________________________________________________\n",
            "flatten_2 (Flatten)          (None, 12544)             0         \n",
            "_________________________________________________________________\n",
            "dense_4 (Dense)              (None, 512)               6423040   \n",
            "_________________________________________________________________\n",
            "dropout_5 (Dropout)          (None, 512)               0         \n",
            "_________________________________________________________________\n",
            "dense_5 (Dense)              (None, 10)                5130      \n",
            "=================================================================\n",
            "Total params: 6,446,986\n",
            "Trainable params: 6,446,986\n",
            "Non-trainable params: 0\n",
            "_________________________________________________________________\n"
          ],
          "name": "stdout"
        }
      ]
    },
    {
      "cell_type": "code",
      "metadata": {
        "id": "u_3HKinfn35w"
      },
      "source": [
        "model.compile(\n",
        "    optimizer='adam', loss='categorical_crossentropy', metrics=['accuracy']\n",
        ")"
      ],
      "execution_count": 16,
      "outputs": []
    },
    {
      "cell_type": "code",
      "metadata": {
        "id": "UoZLZZZeoCUz"
      },
      "source": [
        "# 모델 최적화를 위한 설정\n",
        "modelpath  = 'model/best_mnist.cnn_4.h5'\n",
        "checkpoint = ModelCheckpoint(\n",
        "    modelpath, verbose=1, save_best_only=True\n",
        ")\n",
        "early_stopping = EarlyStopping(patience=10)"
      ],
      "execution_count": 17,
      "outputs": []
    },
    {
      "cell_type": "code",
      "metadata": {
        "colab": {
          "base_uri": "https://localhost:8080/"
        },
        "id": "yL8saEL1oDsZ",
        "outputId": "c5ca0a72-ad99-4334-a54a-312d3084c642"
      },
      "source": [
        "# 모델 학습\n",
        "history = model.fit(X_train, Y_train, validation_split=0.2,\n",
        "                    epochs=50, batch_size=200, verbose=0,\n",
        "                    callbacks=[checkpoint, early_stopping]\n",
        "                    )"
      ],
      "execution_count": 18,
      "outputs": [
        {
          "output_type": "stream",
          "text": [
            "\n",
            "Epoch 00001: val_loss improved from inf to 0.05985, saving model to model/best_mnist.cnn_4.h5\n",
            "\n",
            "Epoch 00002: val_loss improved from 0.05985 to 0.05301, saving model to model/best_mnist.cnn_4.h5\n",
            "\n",
            "Epoch 00003: val_loss improved from 0.05301 to 0.04022, saving model to model/best_mnist.cnn_4.h5\n",
            "\n",
            "Epoch 00004: val_loss improved from 0.04022 to 0.03709, saving model to model/best_mnist.cnn_4.h5\n",
            "\n",
            "Epoch 00005: val_loss improved from 0.03709 to 0.03680, saving model to model/best_mnist.cnn_4.h5\n",
            "\n",
            "Epoch 00006: val_loss improved from 0.03680 to 0.03449, saving model to model/best_mnist.cnn_4.h5\n",
            "\n",
            "Epoch 00007: val_loss improved from 0.03449 to 0.03406, saving model to model/best_mnist.cnn_4.h5\n",
            "\n",
            "Epoch 00008: val_loss did not improve from 0.03406\n",
            "\n",
            "Epoch 00009: val_loss improved from 0.03406 to 0.03254, saving model to model/best_mnist.cnn_4.h5\n",
            "\n",
            "Epoch 00010: val_loss did not improve from 0.03254\n",
            "\n",
            "Epoch 00011: val_loss did not improve from 0.03254\n",
            "\n",
            "Epoch 00012: val_loss did not improve from 0.03254\n",
            "\n",
            "Epoch 00013: val_loss did not improve from 0.03254\n",
            "\n",
            "Epoch 00014: val_loss did not improve from 0.03254\n",
            "\n",
            "Epoch 00015: val_loss did not improve from 0.03254\n",
            "\n",
            "Epoch 00016: val_loss did not improve from 0.03254\n",
            "\n",
            "Epoch 00017: val_loss did not improve from 0.03254\n",
            "\n",
            "Epoch 00018: val_loss did not improve from 0.03254\n",
            "\n",
            "Epoch 00019: val_loss did not improve from 0.03254\n"
          ],
          "name": "stdout"
        }
      ]
    },
    {
      "cell_type": "code",
      "metadata": {
        "colab": {
          "base_uri": "https://localhost:8080/"
        },
        "id": "kH2v_ad3oFPd",
        "outputId": "1117aa2b-da0c-46ee-9afe-e62acb89e71c"
      },
      "source": [
        "from tensorflow.keras.models import load_model\n",
        "best_model = load_model(modelpath)\n",
        "best_model.evaluate(X_test, Y_test)"
      ],
      "execution_count": 19,
      "outputs": [
        {
          "output_type": "stream",
          "text": [
            "313/313 [==============================] - 1s 3ms/step - loss: 0.0304 - accuracy: 0.9908\n"
          ],
          "name": "stdout"
        },
        {
          "output_type": "execute_result",
          "data": {
            "text/plain": [
              "[0.03044920042157173, 0.9908000230789185]"
            ]
          },
          "metadata": {
            "tags": []
          },
          "execution_count": 19
        }
      ]
    },
    {
      "cell_type": "markdown",
      "metadata": {
        "id": "KJHUQR7xxfN3"
      },
      "source": [
        "### 훈련과정 시각화"
      ]
    },
    {
      "cell_type": "code",
      "metadata": {
        "id": "XGBclRIwpPoB"
      },
      "source": [
        "y_vloss = history.history['val_loss']\n",
        "y_acc = history.history['accuracy']\n",
        "x_len = np.arange(len(y_acc))"
      ],
      "execution_count": 20,
      "outputs": []
    },
    {
      "cell_type": "code",
      "metadata": {
        "colab": {
          "base_uri": "https://localhost:8080/",
          "height": 483
        },
        "id": "lrjDG3o9xiS_",
        "outputId": "b550d3d6-9a00-4079-9310-007c46a72746"
      },
      "source": [
        "import matplotlib.pyplot as plt\n",
        "%matplotlib inline\n",
        "\n",
        "plt.figure(figsize=(12,8))\n",
        "plt.plot(x_len, y_acc, 'bo-', markersize=2, label='accuracy')\n",
        "plt.plot(x_len, y_vloss, 'ro-', markersize=2, label='val_loss')\n",
        "plt.legend()\n",
        "plt.show()"
      ],
      "execution_count": 22,
      "outputs": [
        {
          "output_type": "display_data",
          "data": {
            "image/png": "[encoded data removed]",
            "text/plain": [
              "<Figure size 864x576 with 1 Axes>"
            ]
          },
          "metadata": {
            "tags": [],
            "needs_background": "light"
          }
        }
      ]
    },
    {
      "cell_type": "code",
      "metadata": {
        "id": "pdPoS5R_xrih"
      },
      "source": [
        ""
      ],
      "execution_count": null,
      "outputs": []
    }
  ]
}